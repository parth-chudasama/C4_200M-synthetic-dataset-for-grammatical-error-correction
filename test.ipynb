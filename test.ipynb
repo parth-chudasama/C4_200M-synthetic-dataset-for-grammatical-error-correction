{
 "cells": [
  {
   "cell_type": "code",
   "execution_count": null,
   "metadata": {},
   "outputs": [],
   "source": [
    "from glob import glob"
   ]
  },
  {
   "cell_type": "code",
   "execution_count": null,
   "metadata": {},
   "outputs": [],
   "source": [
    "edits_tsv_list = glob(\"/mnt/spellcheck_data/data/c4dataset/edits_tsv/*\")"
   ]
  },
  {
   "cell_type": "code",
   "execution_count": null,
   "metadata": {},
   "outputs": [],
   "source": [
    "with open(edits_tsv_list[0]) as f:\n",
    "    current_edit_md5 = None\n",
    "    for edits_tsv_line in f:\n",
    "        try:\n",
    "            edit_md5, byte_start, byte_end, text = edits_tsv_line.strip(\"\\n\").split(\n",
    "                \"\\t\", 3)\n",
    "        except ValueError:\n",
    "            pass  # Skip malformed lines\n",
    "        else:\n",
    "            if edit_md5 != current_edit_md5:\n",
    "                if current_edit_md5 is not None:\n",
    "                    print(\"IN\",current_edit_md5, current_edits)\n",
    "                current_edit_md5 = edit_md5\n",
    "                current_edits = []\n",
    "            current_edits.append((int(byte_start), int(byte_end), text))\n",
    "            print(current_edits)\n",
    "    # edits_iterator = get_edits(f)\n",
    "    # print(next(edits_iterator))"
   ]
  },
  {
   "cell_type": "code",
   "execution_count": null,
   "metadata": {},
   "outputs": [],
   "source": [
    "def get_edits(edits_tsv_reader):\n",
    "  \"\"\"Generator method for the edits.\"\"\"\n",
    "  current_edit_md5 = None\n",
    "  for edits_tsv_line in edits_tsv_reader:\n",
    "    try:\n",
    "      edit_md5, byte_start, byte_end, text = edits_tsv_line.strip(\"\\n\").split(\n",
    "          \"\\t\", 3)\n",
    "    except ValueError:\n",
    "      pass  # Skip malformed lines\n",
    "    else:\n",
    "      if edit_md5 != current_edit_md5:\n",
    "        if current_edit_md5 is not None:\n",
    "          yield current_edit_md5, current_edits\n",
    "        current_edit_md5 = edit_md5\n",
    "        current_edits = []\n",
    "      current_edits.append((int(byte_start), int(byte_end), text))\n",
    "  yield current_edit_md5, current_edits\n"
   ]
  },
  {
   "cell_type": "code",
   "execution_count": null,
   "metadata": {},
   "outputs": [],
   "source": [
    "data = {}\n",
    "with open(\"/home/parth.chudasama/data_mnt/target_data/target_sentencs_00000-of-00010\") as f:\n",
    "    for target_sentence_tsv_line in f:\n",
    "          md5, target_text = target_sentence_tsv_line.strip(\"\\n\").split(\"\\t\", 1)\n",
    "          data.update({md5:target_text})\n"
   ]
  },
  {
   "cell_type": "code",
   "execution_count": null,
   "metadata": {},
   "outputs": [],
   "source": [
    "import errant\n",
    "\n",
    "annotator = errant.load('en')"
   ]
  },
  {
   "cell_type": "code",
   "execution_count": null,
   "metadata": {},
   "outputs": [],
   "source": [
    "orig = annotator.parse('This are gramamtical sentence.', tokenise=True)\n",
    "cor = annotator.parse('This is a grammatical sentence.',tokenise=True)\n",
    "edits = annotator.annotate(orig, cor)\n",
    "for e in edits:\n",
    "    print(e.o_start, e.o_end, e.o_str, e.c_start, e.c_end, e.c_str, e.type)"
   ]
  },
  {
   "cell_type": "code",
   "execution_count": null,
   "metadata": {},
   "outputs": [],
   "source": [
    "import os\n",
    "os.path.basename(\"/home/parth.chudasama/data_mnt/target_pairs/target_pairs_00000-of-00010\")"
   ]
  },
  {
   "cell_type": "code",
   "execution_count": null,
   "metadata": {},
   "outputs": [],
   "source": [
    "data = []\n",
    "count = 0\n",
    "with open(\"/home/parth.chudasama/data_mnt/target_pairs/target_pairs_00000-of-00010\") as f:\n",
    "    for line in f:\n",
    "        src, trg = line.strip().split(\"\\t\")\n",
    "        data.append((src, trg))\n",
    "        count+=1\n",
    "        if count>2000:\n",
    "            break"
   ]
  },
  {
   "cell_type": "code",
   "execution_count": null,
   "metadata": {},
   "outputs": [],
   "source": [
    "len(data)"
   ]
  },
  {
   "cell_type": "code",
   "execution_count": null,
   "metadata": {},
   "outputs": [],
   "source": [
    "import boto3\n",
    "import uuid\n",
    "import json\n",
    "sqsResource = boto3.resource('sqs')\n",
    "\n",
    "def write_sqs(integerList):\n",
    "    queue = sqsResource.get_queue_by_name(QueueName=\"C4_data_process\")\n",
    "    entries = []\n",
    "\n",
    "    for src, trg in integerList:\n",
    "        entry =  {\n",
    "            'Id': str(uuid.uuid4()),\n",
    "            'MessageBody': json.dumps(\n",
    "                {\"src\": src,\n",
    "                 \"trg\": trg}\n",
    "                )\n",
    "        }\n",
    "\n",
    "        entries.append(entry)\n",
    "    # return  entries\n",
    "    response = queue.send_messages(Entries=entries)\n"
   ]
  },
  {
   "cell_type": "code",
   "execution_count": null,
   "metadata": {},
   "outputs": [],
   "source": [
    "from tqdm.notebook import tqdm"
   ]
  },
  {
   "cell_type": "code",
   "execution_count": null,
   "metadata": {},
   "outputs": [],
   "source": [
    "\n",
    "with open(\"/home/parth.chudasama/data_mnt/target_pairs/target_pairs_00000-of-00010\") as f:\n",
    "    for line in tqdm(f):\n",
    "        src, trg = line.strip().split(\"\\t\")\n",
    "        data.append((src, trg))\n",
    "        if len(data)==10:\n",
    "            write_sqs(data)\n",
    "            data = []"
   ]
  },
  {
   "cell_type": "code",
   "execution_count": null,
   "metadata": {},
   "outputs": [],
   "source": [
    "import dask.dataframe as dd\n",
    "df = dd.read_csv('~/data_mnt/target_pairs/target_pairs_00000-of-00010', sep='\\t', names=['src','trg'])"
   ]
  },
  {
   "cell_type": "code",
   "execution_count": null,
   "metadata": {},
   "outputs": [],
   "source": [
    "df.head()"
   ]
  },
  {
   "cell_type": "code",
   "execution_count": 21,
   "metadata": {},
   "outputs": [],
   "source": [
    "import dask.dataframe as dd"
   ]
  },
  {
   "cell_type": "code",
   "execution_count": 24,
   "metadata": {},
   "outputs": [
    {
     "data": {
      "text/html": [
       "<div>\n",
       "<style scoped>\n",
       "    .dataframe tbody tr th:only-of-type {\n",
       "        vertical-align: middle;\n",
       "    }\n",
       "\n",
       "    .dataframe tbody tr th {\n",
       "        vertical-align: top;\n",
       "    }\n",
       "\n",
       "    .dataframe thead th {\n",
       "        text-align: right;\n",
       "    }\n",
       "</style>\n",
       "<table border=\"1\" class=\"dataframe\">\n",
       "  <thead>\n",
       "    <tr style=\"text-align: right;\">\n",
       "      <th></th>\n",
       "      <th>src</th>\n",
       "      <th>trg</th>\n",
       "      <th>edits</th>\n",
       "      <th>file</th>\n",
       "    </tr>\n",
       "  </thead>\n",
       "  <tbody>\n",
       "    <tr>\n",
       "      <th>0</th>\n",
       "      <td>015 Buck , marilyn J.</td>\n",
       "      <td>015 Buck , Marilyn J.</td>\n",
       "      <td>[{'o_start': 3, 'o_end': 4, 'o_str': 'marilyn'...</td>\n",
       "      <td>0</td>\n",
       "    </tr>\n",
       "    <tr>\n",
       "      <th>1</th>\n",
       "      <td>Mark Mohler said in a post on Instagram that h...</td>\n",
       "      <td>On Wednesday, diver Mark Mohler said in a post...</td>\n",
       "      <td>[{'o_start': 0, 'o_end': 0, 'o_str': '', 'e_st...</td>\n",
       "      <td>0</td>\n",
       "    </tr>\n",
       "    <tr>\n",
       "      <th>2</th>\n",
       "      <td>Momover, these devices have been proven to hel...</td>\n",
       "      <td>Moreover, these devices are proven to help con...</td>\n",
       "      <td>[{'o_start': 0, 'o_end': 1, 'o_str': 'Momover,...</td>\n",
       "      <td>0</td>\n",
       "    </tr>\n",
       "    <tr>\n",
       "      <th>3</th>\n",
       "      <td>Chris is a chartered accountant who has held a...</td>\n",
       "      <td>Chris is a chartered accountant who was Chief ...</td>\n",
       "      <td>[{'o_start': 6, 'o_end': 7, 'o_str': 'has', 'e...</td>\n",
       "      <td>0</td>\n",
       "    </tr>\n",
       "    <tr>\n",
       "      <th>4</th>\n",
       "      <td>Research report of how local authorities have ...</td>\n",
       "      <td>Research report on how local authorities have ...</td>\n",
       "      <td>[{'o_start': 2, 'o_end': 3, 'o_str': 'of', 'e_...</td>\n",
       "      <td>0</td>\n",
       "    </tr>\n",
       "  </tbody>\n",
       "</table>\n",
       "</div>"
      ],
      "text/plain": [
       "                                                 src  \\\n",
       "0                              015 Buck , marilyn J.   \n",
       "1  Mark Mohler said in a post on Instagram that h...   \n",
       "2  Momover, these devices have been proven to hel...   \n",
       "3  Chris is a chartered accountant who has held a...   \n",
       "4  Research report of how local authorities have ...   \n",
       "\n",
       "                                                 trg  \\\n",
       "0                              015 Buck , Marilyn J.   \n",
       "1  On Wednesday, diver Mark Mohler said in a post...   \n",
       "2  Moreover, these devices are proven to help con...   \n",
       "3  Chris is a chartered accountant who was Chief ...   \n",
       "4  Research report on how local authorities have ...   \n",
       "\n",
       "                                               edits  file  \n",
       "0  [{'o_start': 3, 'o_end': 4, 'o_str': 'marilyn'...     0  \n",
       "1  [{'o_start': 0, 'o_end': 0, 'o_str': '', 'e_st...     0  \n",
       "2  [{'o_start': 0, 'o_end': 1, 'o_str': 'Momover,...     0  \n",
       "3  [{'o_start': 6, 'o_end': 7, 'o_str': 'has', 'e...     0  \n",
       "4  [{'o_start': 2, 'o_end': 3, 'o_str': 'of', 'e_...     0  "
      ]
     },
     "execution_count": 24,
     "metadata": {},
     "output_type": "execute_result"
    }
   ],
   "source": [
    "df = dd.read_json('c4_json_data/*/*',lines=True)\n",
    "df.head()"
   ]
  },
  {
   "cell_type": "code",
   "execution_count": 26,
   "metadata": {},
   "outputs": [],
   "source": [
    "df['e_flag'] = df.map_partitions(check_list, meta=(None,'bool'))"
   ]
  },
  {
   "cell_type": "code",
   "execution_count": 27,
   "metadata": {},
   "outputs": [
    {
     "data": {
      "text/html": [
       "<div><strong>Dask DataFrame Structure:</strong></div>\n",
       "<div>\n",
       "<style scoped>\n",
       "    .dataframe tbody tr th:only-of-type {\n",
       "        vertical-align: middle;\n",
       "    }\n",
       "\n",
       "    .dataframe tbody tr th {\n",
       "        vertical-align: top;\n",
       "    }\n",
       "\n",
       "    .dataframe thead th {\n",
       "        text-align: right;\n",
       "    }\n",
       "</style>\n",
       "<table border=\"1\" class=\"dataframe\">\n",
       "  <thead>\n",
       "    <tr style=\"text-align: right;\">\n",
       "      <th></th>\n",
       "      <th>src</th>\n",
       "      <th>trg</th>\n",
       "      <th>edits</th>\n",
       "      <th>file</th>\n",
       "      <th>e_flag</th>\n",
       "    </tr>\n",
       "    <tr>\n",
       "      <th>npartitions=404</th>\n",
       "      <th></th>\n",
       "      <th></th>\n",
       "      <th></th>\n",
       "      <th></th>\n",
       "      <th></th>\n",
       "    </tr>\n",
       "  </thead>\n",
       "  <tbody>\n",
       "    <tr>\n",
       "      <th></th>\n",
       "      <td>object</td>\n",
       "      <td>object</td>\n",
       "      <td>object</td>\n",
       "      <td>int64</td>\n",
       "      <td>bool</td>\n",
       "    </tr>\n",
       "    <tr>\n",
       "      <th></th>\n",
       "      <td>...</td>\n",
       "      <td>...</td>\n",
       "      <td>...</td>\n",
       "      <td>...</td>\n",
       "      <td>...</td>\n",
       "    </tr>\n",
       "    <tr>\n",
       "      <th>...</th>\n",
       "      <td>...</td>\n",
       "      <td>...</td>\n",
       "      <td>...</td>\n",
       "      <td>...</td>\n",
       "      <td>...</td>\n",
       "    </tr>\n",
       "    <tr>\n",
       "      <th></th>\n",
       "      <td>...</td>\n",
       "      <td>...</td>\n",
       "      <td>...</td>\n",
       "      <td>...</td>\n",
       "      <td>...</td>\n",
       "    </tr>\n",
       "    <tr>\n",
       "      <th></th>\n",
       "      <td>...</td>\n",
       "      <td>...</td>\n",
       "      <td>...</td>\n",
       "      <td>...</td>\n",
       "      <td>...</td>\n",
       "    </tr>\n",
       "  </tbody>\n",
       "</table>\n",
       "</div>\n",
       "<div>Dask Name: loc-series, 2424 tasks</div>"
      ],
      "text/plain": [
       "Dask DataFrame Structure:\n",
       "                    src     trg   edits   file e_flag\n",
       "npartitions=404                                      \n",
       "                 object  object  object  int64   bool\n",
       "                    ...     ...     ...    ...    ...\n",
       "...                 ...     ...     ...    ...    ...\n",
       "                    ...     ...     ...    ...    ...\n",
       "                    ...     ...     ...    ...    ...\n",
       "Dask Name: loc-series, 2424 tasks"
      ]
     },
     "execution_count": 27,
     "metadata": {},
     "output_type": "execute_result"
    }
   ],
   "source": [
    "df.loc[df['e_flag']]"
   ]
  },
  {
   "cell_type": "code",
   "execution_count": null,
   "metadata": {},
   "outputs": [],
   "source": [
    "df.to_csv(\"c4_only_spell_filtered-*.csv\",index=False)"
   ]
  },
  {
   "cell_type": "code",
   "execution_count": 2,
   "metadata": {},
   "outputs": [],
   "source": [
    "from glob import glob\n",
    "import pandas as pd\n",
    "from tqdm import tqdm\n",
    "from mpire import WorkerPool\n",
    "import os\n",
    "import uuid"
   ]
  },
  {
   "cell_type": "code",
   "execution_count": 5,
   "metadata": {},
   "outputs": [],
   "source": [
    "file_list = glob(\"c4_json_data/*/*\")"
   ]
  },
  {
   "cell_type": "code",
   "execution_count": 20,
   "metadata": {},
   "outputs": [],
   "source": [
    "def check_list(_list):\n",
    "    for i in _list:\n",
    "        if i['tag'] in ['R:ORTH', 'R:SPELL']:\n",
    "            return True\n",
    "    return False\n",
    "\n",
    "def check_edits(edit_list):\n",
    "    for i in _list:\n",
    "        if i['tag'] in ['R:ORTH', 'R:SPELL']:\n",
    "            \n",
    "    \n",
    "\n",
    "def filter_df(file_path):\n",
    "    count= str(uuid.uuid4())\n",
    "    df = pd.read_json(file_path, lines=True)\n",
    "    df['e_flag'] = df['edits'].apply(lambda x: check_list(x))\n",
    "    df = df.loc[df['e_flag']]\n",
    "    df.to_csv(f\"c4_only_spell_filtered/c4_only_spell_filtered-{count}.csv\")"
   ]
  },
  {
   "cell_type": "code",
   "execution_count": 21,
   "metadata": {},
   "outputs": [
    {
     "data": {
      "application/vnd.jupyter.widget-view+json": {
       "model_id": "24e9f423f77c410bb13b7570a5ff38a3",
       "version_major": 2,
       "version_minor": 0
      },
      "text/plain": [
       "  0%|          | 0/404 [00:00<?, ?it/s]"
      ]
     },
     "metadata": {},
     "output_type": "display_data"
    }
   ],
   "source": [
    "with WorkerPool(n_jobs=os.cpu_count() - 1) as pool:\n",
    "    sentence_data = pool.map(filter_df, file_list, progress_bar=True)"
   ]
  },
  {
   "cell_type": "code",
   "execution_count": 3,
   "metadata": {},
   "outputs": [],
   "source": [
    "file_list_spell = glob(\"c4_only_spell_filtered/sentences_with_spell/*\")"
   ]
  },
  {
   "cell_type": "code",
   "execution_count": 5,
   "metadata": {},
   "outputs": [],
   "source": [
    "df = pd.read_csv(file_list_spell[0])"
   ]
  },
  {
   "cell_type": "code",
   "execution_count": 6,
   "metadata": {},
   "outputs": [
    {
     "data": {
      "text/html": [
       "<div>\n",
       "<style scoped>\n",
       "    .dataframe tbody tr th:only-of-type {\n",
       "        vertical-align: middle;\n",
       "    }\n",
       "\n",
       "    .dataframe tbody tr th {\n",
       "        vertical-align: top;\n",
       "    }\n",
       "\n",
       "    .dataframe thead th {\n",
       "        text-align: right;\n",
       "    }\n",
       "</style>\n",
       "<table border=\"1\" class=\"dataframe\">\n",
       "  <thead>\n",
       "    <tr style=\"text-align: right;\">\n",
       "      <th></th>\n",
       "      <th>Unnamed: 0</th>\n",
       "      <th>src</th>\n",
       "      <th>trg</th>\n",
       "      <th>edits</th>\n",
       "      <th>file</th>\n",
       "      <th>e_flag</th>\n",
       "    </tr>\n",
       "  </thead>\n",
       "  <tbody>\n",
       "    <tr>\n",
       "      <th>0</th>\n",
       "      <td>1</td>\n",
       "      <td>We are available in every DTH platforms in reg...</td>\n",
       "      <td>We are available on all DTH platforms in the r...</td>\n",
       "      <td>[{'o_start': 3, 'o_end': 4, 'o_str': 'in', 'e_...</td>\n",
       "      <td>4</td>\n",
       "      <td>True</td>\n",
       "    </tr>\n",
       "    <tr>\n",
       "      <th>1</th>\n",
       "      <td>7</td>\n",
       "      <td>Details: FRRD SHIPPING on orders of 150 $Expir...</td>\n",
       "      <td>Details: FREE SHIPPING on orders of $150. Expi...</td>\n",
       "      <td>[{'o_start': 1, 'o_end': 2, 'o_str': 'FRRD', '...</td>\n",
       "      <td>4</td>\n",
       "      <td>True</td>\n",
       "    </tr>\n",
       "    <tr>\n",
       "      <th>2</th>\n",
       "      <td>9</td>\n",
       "      <td>I came back to coming from the Party extremly ...</td>\n",
       "      <td>I came back from the party extremely excited b...</td>\n",
       "      <td>[{'o_start': 3, 'o_end': 5, 'o_str': 'to comin...</td>\n",
       "      <td>3</td>\n",
       "      <td>True</td>\n",
       "    </tr>\n",
       "    <tr>\n",
       "      <th>3</th>\n",
       "      <td>13</td>\n",
       "      <td>As the President reminded us, what better demo...</td>\n",
       "      <td>As the President reminded us, what better demo...</td>\n",
       "      <td>[{'o_start': 13, 'o_end': 14, 'o_str': 'iracy'...</td>\n",
       "      <td>3</td>\n",
       "      <td>True</td>\n",
       "    </tr>\n",
       "    <tr>\n",
       "      <th>4</th>\n",
       "      <td>14</td>\n",
       "      <td>November.1st's gleasons and mendez gym have be...</td>\n",
       "      <td>November 1st Gleasons and Mendez Gym become dr...</td>\n",
       "      <td>[{'o_start': 0, 'o_end': 1, 'o_str': \"November...</td>\n",
       "      <td>4</td>\n",
       "      <td>True</td>\n",
       "    </tr>\n",
       "    <tr>\n",
       "      <th>...</th>\n",
       "      <td>...</td>\n",
       "      <td>...</td>\n",
       "      <td>...</td>\n",
       "      <td>...</td>\n",
       "      <td>...</td>\n",
       "      <td>...</td>\n",
       "    </tr>\n",
       "    <tr>\n",
       "      <th>46526</th>\n",
       "      <td>134495</td>\n",
       "      <td>Gruden will call the offensive plays, not Olso...</td>\n",
       "      <td>Gruden will call the offensive plays, not Olso...</td>\n",
       "      <td>[{'o_start': 11, 'o_end': 12, 'o_str': 'then',...</td>\n",
       "      <td>4</td>\n",
       "      <td>True</td>\n",
       "    </tr>\n",
       "    <tr>\n",
       "      <th>46527</th>\n",
       "      <td>134502</td>\n",
       "      <td>Video - do you consider a chaplain?</td>\n",
       "      <td>Video – Are You Considering Becoming a Chaplain?</td>\n",
       "      <td>[{'o_start': 1, 'o_end': 2, 'o_str': '-', 'e_s...</td>\n",
       "      <td>4</td>\n",
       "      <td>True</td>\n",
       "    </tr>\n",
       "    <tr>\n",
       "      <th>46528</th>\n",
       "      <td>134503</td>\n",
       "      <td>The Hocking Valley Scenic Railway Depot has it...</td>\n",
       "      <td>The Hocking Valley Scenic Railway depot featur...</td>\n",
       "      <td>[{'o_start': 5, 'o_end': 6, 'o_str': 'Depot', ...</td>\n",
       "      <td>4</td>\n",
       "      <td>True</td>\n",
       "    </tr>\n",
       "    <tr>\n",
       "      <th>46529</th>\n",
       "      <td>134505</td>\n",
       "      <td>Terri Schwartz, meanwhile praised the performa...</td>\n",
       "      <td>Terri Schwartz, meanwhile, praised the perform...</td>\n",
       "      <td>[{'o_start': 2, 'o_end': 3, 'o_str': 'meanwhil...</td>\n",
       "      <td>4</td>\n",
       "      <td>True</td>\n",
       "    </tr>\n",
       "    <tr>\n",
       "      <th>46530</th>\n",
       "      <td>134506</td>\n",
       "      <td>thank you so much to visited too here!</td>\n",
       "      <td>Thank you so much for visiting here too!</td>\n",
       "      <td>[{'o_start': 0, 'o_end': 1, 'o_str': 'thank', ...</td>\n",
       "      <td>4</td>\n",
       "      <td>True</td>\n",
       "    </tr>\n",
       "  </tbody>\n",
       "</table>\n",
       "<p>46531 rows × 6 columns</p>\n",
       "</div>"
      ],
      "text/plain": [
       "       Unnamed: 0                                                src  \\\n",
       "0               1  We are available in every DTH platforms in reg...   \n",
       "1               7  Details: FRRD SHIPPING on orders of 150 $Expir...   \n",
       "2               9  I came back to coming from the Party extremly ...   \n",
       "3              13  As the President reminded us, what better demo...   \n",
       "4              14  November.1st's gleasons and mendez gym have be...   \n",
       "...           ...                                                ...   \n",
       "46526      134495  Gruden will call the offensive plays, not Olso...   \n",
       "46527      134502                Video - do you consider a chaplain?   \n",
       "46528      134503  The Hocking Valley Scenic Railway Depot has it...   \n",
       "46529      134505  Terri Schwartz, meanwhile praised the performa...   \n",
       "46530      134506             thank you so much to visited too here!   \n",
       "\n",
       "                                                     trg  \\\n",
       "0      We are available on all DTH platforms in the r...   \n",
       "1      Details: FREE SHIPPING on orders of $150. Expi...   \n",
       "2      I came back from the party extremely excited b...   \n",
       "3      As the President reminded us, what better demo...   \n",
       "4      November 1st Gleasons and Mendez Gym become dr...   \n",
       "...                                                  ...   \n",
       "46526  Gruden will call the offensive plays, not Olso...   \n",
       "46527   Video – Are You Considering Becoming a Chaplain?   \n",
       "46528  The Hocking Valley Scenic Railway depot featur...   \n",
       "46529  Terri Schwartz, meanwhile, praised the perform...   \n",
       "46530           Thank you so much for visiting here too!   \n",
       "\n",
       "                                                   edits  file  e_flag  \n",
       "0      [{'o_start': 3, 'o_end': 4, 'o_str': 'in', 'e_...     4    True  \n",
       "1      [{'o_start': 1, 'o_end': 2, 'o_str': 'FRRD', '...     4    True  \n",
       "2      [{'o_start': 3, 'o_end': 5, 'o_str': 'to comin...     3    True  \n",
       "3      [{'o_start': 13, 'o_end': 14, 'o_str': 'iracy'...     3    True  \n",
       "4      [{'o_start': 0, 'o_end': 1, 'o_str': \"November...     4    True  \n",
       "...                                                  ...   ...     ...  \n",
       "46526  [{'o_start': 11, 'o_end': 12, 'o_str': 'then',...     4    True  \n",
       "46527  [{'o_start': 1, 'o_end': 2, 'o_str': '-', 'e_s...     4    True  \n",
       "46528  [{'o_start': 5, 'o_end': 6, 'o_str': 'Depot', ...     4    True  \n",
       "46529  [{'o_start': 2, 'o_end': 3, 'o_str': 'meanwhil...     4    True  \n",
       "46530  [{'o_start': 0, 'o_end': 1, 'o_str': 'thank', ...     4    True  \n",
       "\n",
       "[46531 rows x 6 columns]"
      ]
     },
     "execution_count": 6,
     "metadata": {},
     "output_type": "execute_result"
    }
   ],
   "source": [
    "df"
   ]
  },
  {
   "cell_type": "code",
   "execution_count": null,
   "metadata": {},
   "outputs": [],
   "source": []
  }
 ],
 "metadata": {
  "interpreter": {
   "hash": "de2faa81b8b64fa3a707cc23e580239eb70354766a896429a309c772ad2dded2"
  },
  "kernelspec": {
   "display_name": "Python 3",
   "language": "python",
   "name": "python3"
  },
  "language_info": {
   "codemirror_mode": {
    "name": "ipython",
    "version": 3
   },
   "file_extension": ".py",
   "mimetype": "text/x-python",
   "name": "python",
   "nbconvert_exporter": "python",
   "pygments_lexer": "ipython3",
   "version": "3.8.5"
  }
 },
 "nbformat": 4,
 "nbformat_minor": 4
}
